{
  "nbformat": 4,
  "nbformat_minor": 0,
  "metadata": {
    "colab": {
      "provenance": []
    },
    "kernelspec": {
      "name": "python3",
      "display_name": "Python 3"
    },
    "language_info": {
      "name": "python"
    }
  },
  "cells": [
    {
      "cell_type": "code",
      "execution_count": null,
      "metadata": {
        "id": "npZLJpkk6mOM",
        "colab": {
          "base_uri": "https://localhost:8080/"
        },
        "outputId": "ab744137-e319-481c-95aa-39bcc042e310"
      },
      "outputs": [
        {
          "output_type": "stream",
          "name": "stderr",
          "text": [
            "[nltk_data] Downloading package punkt to /root/nltk_data...\n",
            "[nltk_data]   Package punkt is already up-to-date!\n",
            "[nltk_data] Downloading package wordnet to /root/nltk_data...\n",
            "[nltk_data]   Package wordnet is already up-to-date!\n"
          ]
        },
        {
          "output_type": "stream",
          "name": "stdout",
          "text": [
            "Bot: My name is Bot. I am an AI-based chatbot. If you want to exit, type 'bye'.\n",
            "You: hi\n",
            "Bot: hi\n",
            "You: hello\n",
            "Bot: hey\n",
            "You: yo\n",
            "Bot: yo\n",
            "You: ok\n",
            "Bot: I am sorry! I don't understand you.\n",
            "You: what are you doing\n",
            "Bot: I am sorry! I don't understand you.\n",
            "You: bhaag gadhe\n",
            "Bot: I am sorry! I don't understand you.\n"
          ]
        }
      ],
      "source": [
        "import nltk\n",
        "import numpy as np\n",
        "import random\n",
        "import string\n",
        "\n",
        "from sklearn.feature_extraction.text import TfidfVectorizer\n",
        "from sklearn.metrics.pairwise import cosine_similarity\n",
        "\n",
        "# download NLTK data\n",
        "nltk.download('punkt')\n",
        "nltk.download('wordnet')\n",
        "\n",
        "# load data\n",
        "with open('data.txt', 'r', encoding='utf8', errors='ignore') as f:\n",
        "    raw_data = f.read().lower()\n",
        "\n",
        "# pre-processing data\n",
        "sent_tokens = nltk.sent_tokenize(raw_data)\n",
        "word_tokens = nltk.word_tokenize(raw_data)\n",
        "lemmer = nltk.stem.WordNetLemmatizer()\n",
        "\n",
        "def LemTokens(tokens):\n",
        "    return [lemmer.lemmatize(token) for token in tokens]\n",
        "\n",
        "remove_punct_dict = dict((ord(punct), None) for punct in string.punctuation)\n",
        "\n",
        "def LemNormalize(text):\n",
        "    return LemTokens(nltk.word_tokenize(text.lower().translate(remove_punct_dict)))\n",
        "\n",
        "# greeting messages\n",
        "GREETING_INPUTS = [\"hi\", \"hello\", \"hey\", \"what's up\", \"yo\"]\n",
        "GREETING_RESPONSES = [\"hi\", \"hello\", \"hey\", \"what's up\", \"yo\"]\n",
        "\n",
        "# generate response to user input\n",
        "def generate_response(user_input):\n",
        "    bot_response = ''\n",
        "    sent_tokens.append(user_input)\n",
        "\n",
        "    TfidfVec = TfidfVectorizer(tokenizer=LemNormalize, stop_words='english')\n",
        "    tfidf = TfidfVec.fit_transform(sent_tokens)\n",
        "    vals = cosine_similarity(tfidf[-1], tfidf)\n",
        "    idx = vals.argsort()[0][-2]\n",
        "    flat = vals.flatten()\n",
        "    flat.sort()\n",
        "    req_tfidf = flat[-2]\n",
        "\n",
        "    if req_tfidf == 0:\n",
        "        bot_response = bot_response + \"I am sorry! I don't understand you.\"\n",
        "        return bot_response\n",
        "    else:\n",
        "        bot_response = bot_response + sent_tokens[idx]\n",
        "        return bot_response\n",
        "\n",
        "# chat with user\n",
        "flag = True\n",
        "print(\"Bot: My name is Bot. I am an AI-based chatbot. If you want to exit, type 'bye'.\")\n",
        "while flag:\n",
        "    user_input = input(\"You: \")\n",
        "    user_input = user_input.lower()\n",
        "    if user_input != 'bye':\n",
        "        if user_input in GREETING_INPUTS:\n",
        "            bot_response = random.choice(GREETING_RESPONSES)\n",
        "            print(\"Bot: \" + bot_response)\n",
        "        else:\n",
        "            print(\"Bot: \", end=\"\")\n",
        "            print(generate_response(user_input))\n",
        "            sent_tokens.remove(user_input)\n",
        "    else:\n",
        "        flag = False\n",
        "        print(\"Bot: Bye! Have a nice day.\")"
      ]
    }
  ]
}